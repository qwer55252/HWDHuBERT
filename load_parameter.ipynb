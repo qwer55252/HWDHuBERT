{
 "cells": [
  {
   "cell_type": "code",
   "execution_count": null,
   "metadata": {},
   "outputs": [],
   "source": []
  },
  {
   "cell_type": "code",
   "execution_count": 3,
   "metadata": {},
   "outputs": [
    {
     "name": "stdout",
     "output_type": "stream",
     "text": [
      "wav2vec2.encoder.layers.0.attention.q_proj.weight: torch.Size([448, 768]), remaining heads: 7\n",
      "wav2vec2.encoder.layers.1.attention.q_proj.weight: torch.Size([576, 768]), remaining heads: 9\n",
      "wav2vec2.encoder.layers.10.attention.q_proj.weight: torch.Size([64, 768]), remaining heads: 1\n",
      "wav2vec2.encoder.layers.11.attention.q_proj.weight: torch.Size([384, 768]), remaining heads: 6\n",
      "wav2vec2.encoder.layers.2.attention.q_proj.weight: torch.Size([384, 768]), remaining heads: 6\n",
      "wav2vec2.encoder.layers.3.attention.q_proj.weight: torch.Size([320, 768]), remaining heads: 5\n",
      "wav2vec2.encoder.layers.4.attention.q_proj.weight: torch.Size([192, 768]), remaining heads: 3\n",
      "wav2vec2.encoder.layers.5.attention.q_proj.weight: torch.Size([64, 768]), remaining heads: 1\n",
      "wav2vec2.encoder.layers.6.attention.q_proj.weight: torch.Size([128, 768]), remaining heads: 2\n",
      "wav2vec2.encoder.layers.7.attention.q_proj.weight: torch.Size([64, 768]), remaining heads: 1\n",
      "wav2vec2.encoder.layers.8.attention.q_proj.weight: torch.Size([64, 768]), remaining heads: 1\n",
      "wav2vec2.encoder.layers.9.attention.q_proj.weight: torch.Size([64, 768]), remaining heads: 1\n"
     ]
    }
   ],
   "source": [
    "from safetensors.torch import load_file\n",
    "\n",
    "state_dict = load_file(\"/home/kobie/workspace/HWDHuBERT/IHP_init_param/checkpoint-356750/model.safetensors\")\n",
    "for key, tensor in state_dict.items():\n",
    "    if \"attention.q_proj.weight\" in key:\n",
    "        num_heads = tensor.shape[0] // 64\n",
    "        print(f\"{key}: {tensor.shape}, remaining heads: {num_heads}\")"
   ]
  },
  {
   "cell_type": "code",
   "execution_count": null,
   "metadata": {},
   "outputs": [],
   "source": []
  }
 ],
 "metadata": {
  "kernelspec": {
   "display_name": "py310",
   "language": "python",
   "name": "python3"
  },
  "language_info": {
   "codemirror_mode": {
    "name": "ipython",
    "version": 3
   },
   "file_extension": ".py",
   "mimetype": "text/x-python",
   "name": "python",
   "nbconvert_exporter": "python",
   "pygments_lexer": "ipython3",
   "version": "3.10.14"
  }
 },
 "nbformat": 4,
 "nbformat_minor": 2
}
